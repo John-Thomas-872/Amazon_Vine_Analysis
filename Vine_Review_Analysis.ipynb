{
  "nbformat": 4,
  "nbformat_minor": 0,
  "metadata": {
    "colab": {
      "name": "Vine_Review_Analysis.ipynb",
      "provenance": []
    },
    "kernelspec": {
      "name": "python3",
      "display_name": "Python 3"
    },
    "language_info": {
      "name": "python"
    }
  },
  "cells": [
    {
      "cell_type": "code",
      "metadata": {
        "colab": {
          "base_uri": "https://localhost:8080/"
        },
        "id": "OImF0jbMMPji",
        "outputId": "867cc76a-0733-4ad7-e51b-0b56d1d4048e"
      },
      "source": [
        "import os\n",
        "# Find the latest version of spark 3.0 from http://www.apache.org/dist/spark/ and enter as the spark version\n",
        "# For example:\n",
        "# spark_version = 'spark-3.0.3'\n",
        "spark_version = 'spark-3.0.3'\n",
        "os.environ['SPARK_VERSION']=spark_version\n",
        "\n",
        "# Install Spark and Java\n",
        "!apt-get update\n",
        "!apt-get install openjdk-11-jdk-headless -qq > /dev/null\n",
        "!wget -q http://www.apache.org/dist/spark/$SPARK_VERSION/$SPARK_VERSION-bin-hadoop2.7.tgz\n",
        "!tar xf $SPARK_VERSION-bin-hadoop2.7.tgz\n",
        "!pip install -q findspark\n",
        "\n",
        "# Set Environment Variables\n",
        "import os\n",
        "os.environ[\"JAVA_HOME\"] = \"/usr/lib/jvm/java-11-openjdk-amd64\"\n",
        "os.environ[\"SPARK_HOME\"] = f\"/content/{spark_version}-bin-hadoop2.7\"\n",
        "\n",
        "# Start a SparkSession\n",
        "import findspark\n",
        "findspark.init()"
      ],
      "execution_count": 1,
      "outputs": [
        {
          "output_type": "stream",
          "name": "stdout",
          "text": [
            "Get:1 http://security.ubuntu.com/ubuntu bionic-security InRelease [88.7 kB]\n",
            "Ign:2 https://developer.download.nvidia.com/compute/cuda/repos/ubuntu1804/x86_64  InRelease\n",
            "Get:3 https://cloud.r-project.org/bin/linux/ubuntu bionic-cran40/ InRelease [3,626 B]\n",
            "Hit:4 http://ppa.launchpad.net/c2d4u.team/c2d4u4.0+/ubuntu bionic InRelease\n",
            "Ign:5 https://developer.download.nvidia.com/compute/machine-learning/repos/ubuntu1804/x86_64  InRelease\n",
            "Hit:6 https://developer.download.nvidia.com/compute/cuda/repos/ubuntu1804/x86_64  Release\n",
            "Hit:7 https://developer.download.nvidia.com/compute/machine-learning/repos/ubuntu1804/x86_64  Release\n",
            "Hit:8 http://archive.ubuntu.com/ubuntu bionic InRelease\n",
            "Get:9 http://archive.ubuntu.com/ubuntu bionic-updates InRelease [88.7 kB]\n",
            "Hit:10 http://ppa.launchpad.net/cran/libgit2/ubuntu bionic InRelease\n",
            "Get:11 http://security.ubuntu.com/ubuntu bionic-security/universe amd64 Packages [1,430 kB]\n",
            "Hit:12 http://ppa.launchpad.net/deadsnakes/ppa/ubuntu bionic InRelease\n",
            "Get:13 http://archive.ubuntu.com/ubuntu bionic-backports InRelease [74.6 kB]\n",
            "Hit:14 http://ppa.launchpad.net/graphics-drivers/ppa/ubuntu bionic InRelease\n",
            "Get:17 http://archive.ubuntu.com/ubuntu bionic-updates/universe amd64 Packages [2,208 kB]\n",
            "Get:18 http://archive.ubuntu.com/ubuntu bionic-updates/main amd64 Packages [2,800 kB]\n",
            "Fetched 6,695 kB in 4s (1,512 kB/s)\n",
            "Reading package lists... Done\n"
          ]
        }
      ]
    },
    {
      "cell_type": "code",
      "metadata": {
        "colab": {
          "base_uri": "https://localhost:8080/"
        },
        "id": "9eAn9-5JMaBl",
        "outputId": "631f03d2-ccb7-4581-fb35-9a964f1b4ca0"
      },
      "source": [
        "# Download the Postgres driver that will allow Spark to interact with Postgres.\n",
        "!wget https://jdbc.postgresql.org/download/postgresql-42.2.16.jar"
      ],
      "execution_count": 2,
      "outputs": [
        {
          "output_type": "stream",
          "name": "stdout",
          "text": [
            "--2021-10-03 22:06:43--  https://jdbc.postgresql.org/download/postgresql-42.2.16.jar\n",
            "Resolving jdbc.postgresql.org (jdbc.postgresql.org)... 72.32.157.228, 2001:4800:3e1:1::228\n",
            "Connecting to jdbc.postgresql.org (jdbc.postgresql.org)|72.32.157.228|:443... connected.\n",
            "HTTP request sent, awaiting response... 200 OK\n",
            "Length: 1002883 (979K) [application/java-archive]\n",
            "Saving to: ‘postgresql-42.2.16.jar’\n",
            "\n",
            "postgresql-42.2.16. 100%[===================>] 979.38K  --.-KB/s    in 0.1s    \n",
            "\n",
            "2021-10-03 22:06:44 (6.56 MB/s) - ‘postgresql-42.2.16.jar’ saved [1002883/1002883]\n",
            "\n"
          ]
        }
      ]
    },
    {
      "cell_type": "code",
      "metadata": {
        "id": "m90ZNHxYMcu7"
      },
      "source": [
        "from pyspark.sql import SparkSession\n",
        "spark = SparkSession.builder.appName(\"M16-Amazon-Challenge\").config(\"spark.driver.extraClassPath\",\"/content/postgresql-42.2.16.jar\").getOrCreate()"
      ],
      "execution_count": 3,
      "outputs": []
    },
    {
      "cell_type": "code",
      "metadata": {
        "colab": {
          "base_uri": "https://localhost:8080/"
        },
        "id": "IqGlP_UtMf_5",
        "outputId": "149dd819-782c-43dd-eae3-fd0138c456ac"
      },
      "source": [
        "from pyspark import SparkFiles\n",
        "url = \"https://s3.amazonaws.com/amazon-reviews-pds/tsv/amazon_reviews_us_Home_Improvement_v1_00.tsv.gz\"\n",
        "spark.sparkContext.addFile(url)\n",
        "df = spark.read.option(\"encoding\", \"UTF-8\").csv(SparkFiles.get(\"\"), sep=\"\\t\", header=True, inferSchema=True)\n",
        "df.show()"
      ],
      "execution_count": 4,
      "outputs": [
        {
          "output_type": "stream",
          "name": "stdout",
          "text": [
            "+-----------+-----------+--------------+----------+--------------+--------------------+----------------+-----------+-------------+-----------+----+-----------------+--------------------+--------------------+-----------+\n",
            "|marketplace|customer_id|     review_id|product_id|product_parent|       product_title|product_category|star_rating|helpful_votes|total_votes|vine|verified_purchase|     review_headline|         review_body|review_date|\n",
            "+-----------+-----------+--------------+----------+--------------+--------------------+----------------+-----------+-------------+-----------+----+-----------------+--------------------+--------------------+-----------+\n",
            "|         US|   48881148|R215C9BDXTDQOW|B00FR4YQYK|     381800308|SadoTech Model C ...|Home Improvement|          4|            0|          0|   N|                Y|          Four Stars|        good product| 2015-08-31|\n",
            "|         US|   47882936|R1DTPUV1J57YHA|B00439MYYE|     921341748|iSpring T32M 3.2 ...|Home Improvement|          5|            0|          0|   N|                Y|Good price, quick...|Good price, quick...| 2015-08-31|\n",
            "|         US|   44435471| RFAZK5EWKJWOU|B00002N762|      56053291|Schlage F10CS V E...|Home Improvement|          5|            0|          0|   N|                Y|          Five Stars|       Excellent...!| 2015-08-31|\n",
            "|         US|   28377689|R2XT8X0O0WS1AL|B000QFCP1G|     595928517|Citri-Strip QCG73...|Home Improvement|          5|            0|          0|   N|                Y|Although *slightl...|Although *slightl...| 2015-08-31|\n",
            "|         US|   50134766|R14GRNANKO2Y2J|B00WRCRKOI|     417053744|SleekLighting Bul...|Home Improvement|          5|            0|          0|   N|                Y|      Great Adapters|These adapters ar...| 2015-08-31|\n",
            "|         US|   14066511|R2BLF9VYL24LCQ|B00NIH88EW|     275395071|VDOMUS&reg;Exquis...|Home Improvement|          5|            1|          1|   N|                Y|                nice|awesome and great...| 2015-08-31|\n",
            "|         US|   15211046|R1GI9UW5KJ671O|B005B9CI96|     856617815|Frigidaire 316075...|Home Improvement|          5|            0|          0|   N|                Y|          Five Stars|Perfect. Exactly ...| 2015-08-31|\n",
            "|         US|   14862498|R2H5CEJN863M86|B008L0OMWI|     125102494|Anyray® 5-Bulbs 7...|Home Improvement|          5|            0|          1|   N|                Y|So far working gr...|So far working gr...| 2015-08-31|\n",
            "|         US|   23617292| R5PPDHFOZ3SMU|B00P9FTC6O|     523110842|Cambridge 100 pcs...|Home Improvement|          5|            0|          0|   N|                Y|           Ties tie.|Not much to say a...| 2015-08-31|\n",
            "|         US|   35820485| RE1L9IENKJJ7Y|B00K6BQEHQ|     797306964|EUBUY Silver Tone...|Home Improvement|          1|            0|          0|   N|                Y|             GARBAGE|       crap quality.| 2015-08-31|\n",
            "|         US|   47162350|R3CZ0990QC2Z0H|B008BYQCWM|     865874404|Legend 809125 Leg...|Home Improvement|          5|            0|          0|   N|                Y|          Five Stars|  Good. As expected.| 2015-08-31|\n",
            "|         US|   31884789|R3UMMD2IO29QSP|B003BLHTOU|     183592595|Forearm Forklift ...|Home Improvement|          5|            0|          0|   N|                Y|           It works!|My husband and I ...| 2015-08-31|\n",
            "|         US|   43835770| R541LE5J3OJH2|B0065I114K|     185006358|Newer Technology ...|Home Improvement|          5|            0|          0|   N|                Y|          Five Stars|     works perfectly| 2015-08-31|\n",
            "|         US|   26212294|R10KD9FIE6Y1AS|B00J9XB6BQ|      53423207|Rok Hardware 25 P...|Home Improvement|          5|            0|          0|   N|                Y|Banging cabinet d...|Banging cabinet d...| 2015-08-31|\n",
            "|         US|   17876704|R1YT5YG0QG5DCG|B00K36NJ0E|     593464633|Drift Light Using...|Home Improvement|          5|            0|          0|   N|                Y|Great product for...|Great product for...| 2015-08-31|\n",
            "|         US|   22813225|R207LXJWL40V1S|B000ZIEOHW|     833911812|Troy DPH11 Profes...|Home Improvement|          4|            0|          0|   N|                Y|GETTING THE JOB D...|Drywalling our 18...| 2015-08-31|\n",
            "|         US|   25448576| RIDP0ZD7WT9DE|B0009YDHKC|     852173443|Wright Products V...|Home Improvement|          5|            0|          0|   N|                Y|          Five Stars|exact replacement...| 2015-08-31|\n",
            "|         US|   19754503|R2XJSNZ9219U1Z|B00LBGVLS2|     929968058|LiftMaster Garage...|Home Improvement|          5|            0|          0|   N|                Y|Easy to program g...|Works as advertis...| 2015-08-31|\n",
            "|         US|   17767084|R2M9F1FVVDOGFL|B00002N5DY|     830214712|Heath Zenith SL-5...|Home Improvement|          5|            0|          0|   N|                Y|     easy to install|Working well the ...| 2015-08-31|\n",
            "|         US|   48001709|R1QTOSE2BHU2LJ|B000BQOX88|     498022954|Intermatic T101 2...|Home Improvement|          3|            1|          2|   N|                Y|Kind of disappoin...|I connected the r...| 2015-08-31|\n",
            "+-----------+-----------+--------------+----------+--------------+--------------------+----------------+-----------+-------------+-----------+----+-----------------+--------------------+--------------------+-----------+\n",
            "only showing top 20 rows\n",
            "\n"
          ]
        }
      ]
    },
    {
      "cell_type": "code",
      "metadata": {
        "colab": {
          "base_uri": "https://localhost:8080/"
        },
        "id": "hS9vR4OeMmjf",
        "outputId": "3a4ee825-5637-4f4d-dc10-f207699967fb"
      },
      "source": [
        "# Create the vine_table. DataFrame\n",
        "vine_df = df.select([\"review_id\", \"star_rating\", \"helpful_votes\", \"total_votes\", \"vine\", \"verified_purchase\"])\n",
        "vine_df.show()"
      ],
      "execution_count": 5,
      "outputs": [
        {
          "output_type": "stream",
          "name": "stdout",
          "text": [
            "+--------------+-----------+-------------+-----------+----+-----------------+\n",
            "|     review_id|star_rating|helpful_votes|total_votes|vine|verified_purchase|\n",
            "+--------------+-----------+-------------+-----------+----+-----------------+\n",
            "|R215C9BDXTDQOW|          4|            0|          0|   N|                Y|\n",
            "|R1DTPUV1J57YHA|          5|            0|          0|   N|                Y|\n",
            "| RFAZK5EWKJWOU|          5|            0|          0|   N|                Y|\n",
            "|R2XT8X0O0WS1AL|          5|            0|          0|   N|                Y|\n",
            "|R14GRNANKO2Y2J|          5|            0|          0|   N|                Y|\n",
            "|R2BLF9VYL24LCQ|          5|            1|          1|   N|                Y|\n",
            "|R1GI9UW5KJ671O|          5|            0|          0|   N|                Y|\n",
            "|R2H5CEJN863M86|          5|            0|          1|   N|                Y|\n",
            "| R5PPDHFOZ3SMU|          5|            0|          0|   N|                Y|\n",
            "| RE1L9IENKJJ7Y|          1|            0|          0|   N|                Y|\n",
            "|R3CZ0990QC2Z0H|          5|            0|          0|   N|                Y|\n",
            "|R3UMMD2IO29QSP|          5|            0|          0|   N|                Y|\n",
            "| R541LE5J3OJH2|          5|            0|          0|   N|                Y|\n",
            "|R10KD9FIE6Y1AS|          5|            0|          0|   N|                Y|\n",
            "|R1YT5YG0QG5DCG|          5|            0|          0|   N|                Y|\n",
            "|R207LXJWL40V1S|          4|            0|          0|   N|                Y|\n",
            "| RIDP0ZD7WT9DE|          5|            0|          0|   N|                Y|\n",
            "|R2XJSNZ9219U1Z|          5|            0|          0|   N|                Y|\n",
            "|R2M9F1FVVDOGFL|          5|            0|          0|   N|                Y|\n",
            "|R1QTOSE2BHU2LJ|          3|            1|          2|   N|                Y|\n",
            "+--------------+-----------+-------------+-----------+----+-----------------+\n",
            "only showing top 20 rows\n",
            "\n"
          ]
        }
      ]
    },
    {
      "cell_type": "code",
      "metadata": {
        "colab": {
          "base_uri": "https://localhost:8080/"
        },
        "id": "-Sxn7mptSJLY",
        "outputId": "ea3bbf45-1b98-4fbe-9d35-bce3e3c36703"
      },
      "source": [
        "#Create dataframe for reviews with 20 or more votes\n",
        "vote_count_df = vine_df.filter(\"total_votes >= 20\")\n",
        "vote_count_df.show()"
      ],
      "execution_count": 6,
      "outputs": [
        {
          "output_type": "stream",
          "name": "stdout",
          "text": [
            "+--------------+-----------+-------------+-----------+----+-----------------+\n",
            "|     review_id|star_rating|helpful_votes|total_votes|vine|verified_purchase|\n",
            "+--------------+-----------+-------------+-----------+----+-----------------+\n",
            "|R2VIQ3UX794Q0O|          4|           21|         21|   N|                Y|\n",
            "|R1OA24IIHWF54G|          5|           43|         45|   N|                Y|\n",
            "| RJ7N3OOJR9RL0|          4|           63|         71|   N|                Y|\n",
            "|R1W8778CBXSRU6|          5|           28|         29|   N|                Y|\n",
            "|R2EFAM03SWLIJX|          1|           32|         35|   N|                Y|\n",
            "|R3F8P56ZDJ6PI8|          4|          106|        115|   N|                Y|\n",
            "|R2QYLQEK9UAJQ6|          5|           33|         34|   N|                Y|\n",
            "| RQCC7XNYI014B|          1|           91|         92|   N|                Y|\n",
            "|R2U8FRHRVW5D2C|          5|           23|         23|   N|                N|\n",
            "|R3RJZC5J4VP7AT|          4|           86|         91|   N|                N|\n",
            "|R2KBV3A9X53ULG|          5|           39|         45|   N|                Y|\n",
            "|R18XX6GVZ41CY1|          5|           21|         22|   N|                N|\n",
            "|R3V8NHJWQWOU7S|          5|           27|         27|   N|                Y|\n",
            "|R25FJV7A58YHEM|          1|           19|         22|   N|                Y|\n",
            "|R285Z02CQJJ36C|          3|           45|         48|   N|                Y|\n",
            "| R5UJCOLQBEADG|          1|           31|         35|   N|                Y|\n",
            "|R1KEUH7SZ9BIRK|          1|           20|         20|   N|                Y|\n",
            "|R16U59S8ZJGPLY|          5|           64|         64|   N|                Y|\n",
            "|R233D4SD2MHUZG|          5|           20|         20|   N|                Y|\n",
            "| RVDGV2G8PEUH2|          1|           13|         21|   N|                N|\n",
            "+--------------+-----------+-------------+-----------+----+-----------------+\n",
            "only showing top 20 rows\n",
            "\n"
          ]
        }
      ]
    },
    {
      "cell_type": "code",
      "metadata": {
        "colab": {
          "base_uri": "https://localhost:8080/"
        },
        "id": "EwovRiNISzxG",
        "outputId": "38ff7f64-a657-4b4f-a424-754a0db03f97"
      },
      "source": [
        "#Filter the new DataFrame or table created above and create a new DataFrame or table to retrieve all the rows where the number of helpful_votes divided by total_votes is equal to or greater than 50%.\n",
        "helpful_votes_df = vote_count_df.filter(vote_count_df[\"helpful_votes\"]/vote_count_df[\"total_votes\"]>=0.5)\n",
        "helpful_votes_df.show()"
      ],
      "execution_count": 7,
      "outputs": [
        {
          "output_type": "stream",
          "name": "stdout",
          "text": [
            "+--------------+-----------+-------------+-----------+----+-----------------+\n",
            "|     review_id|star_rating|helpful_votes|total_votes|vine|verified_purchase|\n",
            "+--------------+-----------+-------------+-----------+----+-----------------+\n",
            "|R2VIQ3UX794Q0O|          4|           21|         21|   N|                Y|\n",
            "|R1OA24IIHWF54G|          5|           43|         45|   N|                Y|\n",
            "| RJ7N3OOJR9RL0|          4|           63|         71|   N|                Y|\n",
            "|R1W8778CBXSRU6|          5|           28|         29|   N|                Y|\n",
            "|R2EFAM03SWLIJX|          1|           32|         35|   N|                Y|\n",
            "|R3F8P56ZDJ6PI8|          4|          106|        115|   N|                Y|\n",
            "|R2QYLQEK9UAJQ6|          5|           33|         34|   N|                Y|\n",
            "| RQCC7XNYI014B|          1|           91|         92|   N|                Y|\n",
            "|R2U8FRHRVW5D2C|          5|           23|         23|   N|                N|\n",
            "|R3RJZC5J4VP7AT|          4|           86|         91|   N|                N|\n",
            "|R2KBV3A9X53ULG|          5|           39|         45|   N|                Y|\n",
            "|R18XX6GVZ41CY1|          5|           21|         22|   N|                N|\n",
            "|R3V8NHJWQWOU7S|          5|           27|         27|   N|                Y|\n",
            "|R25FJV7A58YHEM|          1|           19|         22|   N|                Y|\n",
            "|R285Z02CQJJ36C|          3|           45|         48|   N|                Y|\n",
            "| R5UJCOLQBEADG|          1|           31|         35|   N|                Y|\n",
            "|R1KEUH7SZ9BIRK|          1|           20|         20|   N|                Y|\n",
            "|R16U59S8ZJGPLY|          5|           64|         64|   N|                Y|\n",
            "|R233D4SD2MHUZG|          5|           20|         20|   N|                Y|\n",
            "| RVDGV2G8PEUH2|          1|           13|         21|   N|                N|\n",
            "+--------------+-----------+-------------+-----------+----+-----------------+\n",
            "only showing top 20 rows\n",
            "\n"
          ]
        }
      ]
    },
    {
      "cell_type": "code",
      "metadata": {
        "colab": {
          "base_uri": "https://localhost:8080/"
        },
        "id": "MxYSZLldTM_A",
        "outputId": "07d9e5a5-949d-4a54-f83c-a328e80df59e"
      },
      "source": [
        "#Filter data based on the vine column with \"Y\" response\n",
        "paid_df = helpful_votes_df.filter(helpful_votes_df[\"vine\"] == \"Y\")\n",
        "paid_df.show()"
      ],
      "execution_count": 21,
      "outputs": [
        {
          "output_type": "stream",
          "name": "stdout",
          "text": [
            "+--------------+-----------+-------------+-----------+----+-----------------+\n",
            "|     review_id|star_rating|helpful_votes|total_votes|vine|verified_purchase|\n",
            "+--------------+-----------+-------------+-----------+----+-----------------+\n",
            "|R29V4UDSS053D8|          3|           33|         38|   Y|                N|\n",
            "|R1I2D068WC37PA|          3|           32|         37|   Y|                N|\n",
            "|R13W2U74F67QED|          5|           62|         76|   Y|                N|\n",
            "|R2QI37XFOBKUGD|          4|           24|         33|   Y|                N|\n",
            "|R19F60BB2DNCKN|          5|          170|        174|   Y|                N|\n",
            "|R2PYNEWYYQDWHI|          5|           24|         27|   Y|                N|\n",
            "|R1UEWHCPJL2XJB|          5|           70|         72|   Y|                N|\n",
            "| RXTMMEBRYZB53|          5|           21|         24|   Y|                N|\n",
            "|R1PXVYIYMYGUZL|          5|           21|         26|   Y|                N|\n",
            "| RSFMJJXFZHX1C|          5|           24|         25|   Y|                N|\n",
            "|R3AGOANU5B89WE|          4|           20|         21|   Y|                N|\n",
            "|R1Z849RVP83BSJ|          5|           21|         23|   Y|                N|\n",
            "|R2HQVKK2QW0EAT|          5|           20|         24|   Y|                N|\n",
            "|  RHSOAAAT5UVP|          5|           55|         56|   Y|                N|\n",
            "| RZXDK1RE3YQ97|          4|           18|         21|   Y|                N|\n",
            "|R2IQH4H2S5EROF|          5|           23|         24|   Y|                N|\n",
            "| R2BQ1FHU7OQPQ|          5|          212|        220|   Y|                N|\n",
            "| RH1A5XB16O3BM|          4|           28|         32|   Y|                N|\n",
            "| R4MAE8LHKDZMG|          5|           36|         39|   Y|                Y|\n",
            "|R2QLNOOJ4J16D2|          3|          111|        118|   Y|                N|\n",
            "+--------------+-----------+-------------+-----------+----+-----------------+\n",
            "only showing top 20 rows\n",
            "\n"
          ]
        }
      ]
    },
    {
      "cell_type": "code",
      "metadata": {
        "colab": {
          "base_uri": "https://localhost:8080/"
        },
        "id": "rTTwzMAgVdve",
        "outputId": "6fe1e749-3acf-4fa2-c54a-9c0658ca42ab"
      },
      "source": [
        "#Filter data based on the vine column with \"N\" response\n",
        "unpaid_df = helpful_votes_df.filter(helpful_votes_df[\"vine\"] == \"N\")\n",
        "unpaid_df.show()"
      ],
      "execution_count": 22,
      "outputs": [
        {
          "output_type": "stream",
          "name": "stdout",
          "text": [
            "+--------------+-----------+-------------+-----------+----+-----------------+\n",
            "|     review_id|star_rating|helpful_votes|total_votes|vine|verified_purchase|\n",
            "+--------------+-----------+-------------+-----------+----+-----------------+\n",
            "|R2VIQ3UX794Q0O|          4|           21|         21|   N|                Y|\n",
            "|R1OA24IIHWF54G|          5|           43|         45|   N|                Y|\n",
            "| RJ7N3OOJR9RL0|          4|           63|         71|   N|                Y|\n",
            "|R1W8778CBXSRU6|          5|           28|         29|   N|                Y|\n",
            "|R2EFAM03SWLIJX|          1|           32|         35|   N|                Y|\n",
            "|R3F8P56ZDJ6PI8|          4|          106|        115|   N|                Y|\n",
            "|R2QYLQEK9UAJQ6|          5|           33|         34|   N|                Y|\n",
            "| RQCC7XNYI014B|          1|           91|         92|   N|                Y|\n",
            "|R2U8FRHRVW5D2C|          5|           23|         23|   N|                N|\n",
            "|R3RJZC5J4VP7AT|          4|           86|         91|   N|                N|\n",
            "|R2KBV3A9X53ULG|          5|           39|         45|   N|                Y|\n",
            "|R18XX6GVZ41CY1|          5|           21|         22|   N|                N|\n",
            "|R3V8NHJWQWOU7S|          5|           27|         27|   N|                Y|\n",
            "|R25FJV7A58YHEM|          1|           19|         22|   N|                Y|\n",
            "|R285Z02CQJJ36C|          3|           45|         48|   N|                Y|\n",
            "| R5UJCOLQBEADG|          1|           31|         35|   N|                Y|\n",
            "|R1KEUH7SZ9BIRK|          1|           20|         20|   N|                Y|\n",
            "|R16U59S8ZJGPLY|          5|           64|         64|   N|                Y|\n",
            "|R233D4SD2MHUZG|          5|           20|         20|   N|                Y|\n",
            "| RVDGV2G8PEUH2|          1|           13|         21|   N|                N|\n",
            "+--------------+-----------+-------------+-----------+----+-----------------+\n",
            "only showing top 20 rows\n",
            "\n"
          ]
        }
      ]
    },
    {
      "cell_type": "code",
      "metadata": {
        "colab": {
          "base_uri": "https://localhost:8080/"
        },
        "id": "tSTfzEaYVuzg",
        "outputId": "9962fb57-5386-4b7b-cb64-e393fe1500ef"
      },
      "source": [
        "#Determine the total number of reviews\n",
        "total_rev = helpful_votes_df.count()\n",
        "total_rev"
      ],
      "execution_count": 16,
      "outputs": [
        {
          "output_type": "execute_result",
          "data": {
            "text/plain": [
              "39095"
            ]
          },
          "metadata": {},
          "execution_count": 16
        }
      ]
    },
    {
      "cell_type": "code",
      "metadata": {
        "colab": {
          "base_uri": "https://localhost:8080/"
        },
        "id": "4AOz6T746pan",
        "outputId": "29264d1f-dde3-484b-a68d-afe9170b234b"
      },
      "source": [
        "#total number of vine reviews\n",
        "paid_df.count()"
      ],
      "execution_count": 32,
      "outputs": [
        {
          "output_type": "execute_result",
          "data": {
            "text/plain": [
              "266"
            ]
          },
          "metadata": {},
          "execution_count": 32
        }
      ]
    },
    {
      "cell_type": "code",
      "metadata": {
        "colab": {
          "base_uri": "https://localhost:8080/"
        },
        "id": "gii886MK6pi-",
        "outputId": "24f6d73e-f45b-44cc-9ec3-ca0370eb393b"
      },
      "source": [
        "#total number on non vine reviews\n",
        "unpaid_df.count()"
      ],
      "execution_count": 33,
      "outputs": [
        {
          "output_type": "execute_result",
          "data": {
            "text/plain": [
              "38829"
            ]
          },
          "metadata": {},
          "execution_count": 33
        }
      ]
    },
    {
      "cell_type": "code",
      "metadata": {
        "colab": {
          "base_uri": "https://localhost:8080/"
        },
        "id": "KzL08VDzWESE",
        "outputId": "a092d6ae-163c-4963-f356-a9b6b53a1147"
      },
      "source": [
        "#Determine the number of 5 star reivews\n",
        "five_star_rev = helpful_votes_df.filter(helpful_votes_df[\"star_rating\"] == 5).count()\n",
        "five_star_rev"
      ],
      "execution_count": 13,
      "outputs": [
        {
          "output_type": "execute_result",
          "data": {
            "text/plain": [
              "18371"
            ]
          },
          "metadata": {},
          "execution_count": 13
        }
      ]
    },
    {
      "cell_type": "code",
      "metadata": {
        "colab": {
          "base_uri": "https://localhost:8080/"
        },
        "id": "Q_S_d3Vd9WV2",
        "outputId": "4b3fd4d5-d9fc-4dc1-efd7-376a4b66018a"
      },
      "source": [
        "#Vine 5-star reviews\n",
        "paid_df.filter(paid_df[\"star_rating\"]==5).count()"
      ],
      "execution_count": 35,
      "outputs": [
        {
          "output_type": "execute_result",
          "data": {
            "text/plain": [
              "125"
            ]
          },
          "metadata": {},
          "execution_count": 35
        }
      ]
    },
    {
      "cell_type": "code",
      "metadata": {
        "colab": {
          "base_uri": "https://localhost:8080/"
        },
        "id": "b4cXut7y9Wcw",
        "outputId": "21a27aa5-e533-43d7-f701-dd04bcbb65f1"
      },
      "source": [
        "#Non Vine 5-star reviews\n",
        "unpaid_df.filter(unpaid_df[\"star_rating\"]==5).count()"
      ],
      "execution_count": 36,
      "outputs": [
        {
          "output_type": "execute_result",
          "data": {
            "text/plain": [
              "18246"
            ]
          },
          "metadata": {},
          "execution_count": 36
        }
      ]
    },
    {
      "cell_type": "code",
      "metadata": {
        "colab": {
          "base_uri": "https://localhost:8080/"
        },
        "id": "FECNKr2FaFNi",
        "outputId": "ec3cf36d-ae44-43a0-df03-fbc5fafd9b68"
      },
      "source": [
        "#Overall percentage of five star reivews\n",
        "(five_star_rev/total_rev)*100"
      ],
      "execution_count": 19,
      "outputs": [
        {
          "output_type": "execute_result",
          "data": {
            "text/plain": [
              "46.99066376774523"
            ]
          },
          "metadata": {},
          "execution_count": 19
        }
      ]
    },
    {
      "cell_type": "code",
      "metadata": {
        "colab": {
          "base_uri": "https://localhost:8080/"
        },
        "id": "wUNKREDQWHMp",
        "outputId": "990009a7-407a-4680-a62e-3dd5c2d86c79"
      },
      "source": [
        "#Determine the percentage of 5 star reviews for paid (vine == Y)\n",
        "(paid_df.filter(paid_df[\"star_rating\"]==5).count()/paid_df.filter(paid_df[\"vine\"] == \"Y\").count())*100"
      ],
      "execution_count": 30,
      "outputs": [
        {
          "output_type": "execute_result",
          "data": {
            "text/plain": [
              "46.99248120300752"
            ]
          },
          "metadata": {},
          "execution_count": 30
        }
      ]
    },
    {
      "cell_type": "code",
      "metadata": {
        "colab": {
          "base_uri": "https://localhost:8080/"
        },
        "id": "-VFnRu6FWRfN",
        "outputId": "e72cfe2f-87cf-41b1-f2dc-4fbe5353cd3d"
      },
      "source": [
        "#Determine the percentage of 5 star reviews for unpaid (vine == N)\n",
        "(unpaid_df.filter(unpaid_df[\"star_rating\"]==5).count()/unpaid_df.filter(unpaid_df[\"vine\"] == \"N\").count())*100"
      ],
      "execution_count": 31,
      "outputs": [
        {
          "output_type": "execute_result",
          "data": {
            "text/plain": [
              "46.99065131731438"
            ]
          },
          "metadata": {},
          "execution_count": 31
        }
      ]
    }
  ]
}